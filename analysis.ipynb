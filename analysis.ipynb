{
 "cells": [
  {
   "cell_type": "code",
   "execution_count": 12,
   "metadata": {},
   "outputs": [],
   "source": [
    "import re \n",
    "import numpy as np"
   ]
  },
  {
   "cell_type": "code",
   "execution_count": 13,
   "metadata": {},
   "outputs": [],
   "source": [
    "def analysis(run, machine, path):\n",
    "    # Path to the file\n",
    "    file_path = f\"log_hist/{path}/logs_{run}/machine_{machine}_log.txt\"\n",
    "\n",
    "    logical_clock_values = []\n",
    "    pattern = re.compile(r\"LogicalClock=(\\d+)\")\n",
    "\n",
    "    # Read the file and extract LogicalClock values\n",
    "    with open(file_path, \"r\") as file:\n",
    "        for line in file:\n",
    "            match = pattern.search(line)\n",
    "            if match:\n",
    "                logical_clock_values.append(int(match.group(1)))\n",
    "        file.seek(0)\n",
    "        for _ in range(2):\n",
    "            file.readline()\n",
    "        third_line = file.readline()\n",
    "        clock_rate_match = re.search(r'Clock rate=(\\d+)', third_line)\n",
    "        # clock_rate_match = re.search(r'Clock rate=(\\d+)', first_line)\n",
    "        clock_rate = int(clock_rate_match.group(1)) if clock_rate_match else None\n",
    "\n",
    "    step_sizes = [logical_clock_values[i+1] - logical_clock_values[i] for i in range(len(logical_clock_values)-1)]\n",
    "    average_step_size = sum(step_sizes) / len(step_sizes)\n",
    "    return clock_rate, max(logical_clock_values), round(average_step_size, 2)"
   ]
  },
  {
   "cell_type": "code",
   "execution_count": 14,
   "metadata": {},
   "outputs": [
    {
     "name": "stdout",
     "output_type": "stream",
     "text": [
      "Run 1:\n",
      "Clock rates: [1, 2, 1]\n",
      "Max clocks: [118, 120, 113]\n",
      "Average step sizes: [1.98, 1.0, 1.9]\n",
      "\n",
      "Run 2:\n",
      "Clock rates: [2, 1, 1]\n",
      "Max clocks: [119, 118, 117]\n",
      "Average step sizes: [1.0, 1.98, 1.97]\n",
      "\n",
      "Run 3:\n",
      "Clock rates: [2, 1, 2]\n",
      "Max clocks: [119, 115, 119]\n",
      "Average step sizes: [1.0, 1.93, 1.0]\n",
      "\n",
      "Run 4:\n",
      "Clock rates: [2, 1, 2]\n",
      "Max clocks: [119, 116, 119]\n",
      "Average step sizes: [1.0, 1.95, 1.0]\n",
      "\n",
      "Run 5:\n",
      "Clock rates: [2, 2, 2]\n",
      "Max clocks: [119, 119, 119]\n",
      "Average step sizes: [1.0, 1.0, 1.0]\n",
      "\n"
     ]
    }
   ],
   "source": [
    "for run in range(1, 6):\n",
    "    clock_rates, max_clocks, avg_step_sizes = [], [], []\n",
    "    for machine in range(1, 4):\n",
    "        clock_rate, max_clock, avg_step_size = analysis(run, machine, \"logs_lower_clock_vari\")\n",
    "        clock_rates.append(clock_rate)\n",
    "        max_clocks.append(max_clock)\n",
    "        avg_step_sizes.append(avg_step_size)\n",
    "    print(f\"Run {run}:\")\n",
    "    print(f\"Clock rates: {clock_rates}\")\n",
    "    print(f\"Max clocks: {max_clocks}\")\n",
    "    print(f\"Average step sizes: {avg_step_sizes}\")\n",
    "    print()\n"
   ]
  }
 ],
 "metadata": {
  "kernelspec": {
   "display_name": "Python 3",
   "language": "python",
   "name": "python3"
  },
  "language_info": {
   "codemirror_mode": {
    "name": "ipython",
    "version": 3
   },
   "file_extension": ".py",
   "mimetype": "text/x-python",
   "name": "python",
   "nbconvert_exporter": "python",
   "pygments_lexer": "ipython3",
   "version": "3.9.6"
  }
 },
 "nbformat": 4,
 "nbformat_minor": 2
}
