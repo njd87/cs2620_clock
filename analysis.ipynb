{
 "cells": [
  {
   "cell_type": "code",
   "execution_count": 1,
   "metadata": {},
   "outputs": [],
   "source": [
    "import re \n",
    "import numpy as np"
   ]
  },
  {
   "cell_type": "code",
   "execution_count": 8,
   "metadata": {},
   "outputs": [],
   "source": [
    "def analysis(run, machine, path):\n",
    "    # Path to the file\n",
    "    file_path = f\"log_hist/{path}/logs_{run}/machine_{machine}_log.txt\"\n",
    "\n",
    "    logical_clock_values = []\n",
    "    pattern = re.compile(r\"LogicalClock=(\\d+)\")\n",
    "\n",
    "    # Read the file and extract LogicalClock values\n",
    "    with open(file_path, \"r\") as file:\n",
    "        for line in file:\n",
    "            match = pattern.search(line)\n",
    "            if match:\n",
    "                logical_clock_values.append(int(match.group(1)))\n",
    "        file.seek(0)\n",
    "        for _ in range(2):\n",
    "            file.readline()\n",
    "        third_line = file.readline()\n",
    "        clock_rate_match = re.search(r'Clock rate=(\\d+)', third_line)\n",
    "        # clock_rate_match = re.search(r'Clock rate=(\\d+)', first_line)\n",
    "        clock_rate = int(clock_rate_match.group(1)) if clock_rate_match else None\n",
    "\n",
    "    step_sizes = [logical_clock_values[i+1] - logical_clock_values[i] for i in range(len(logical_clock_values)-1)]\n",
    "    average_step_size = sum(step_sizes) / len(step_sizes)\n",
    "    return clock_rate, max(logical_clock_values), round(average_step_size, 2)"
   ]
  },
  {
   "cell_type": "code",
   "execution_count": 11,
   "metadata": {},
   "outputs": [
    {
     "name": "stdout",
     "output_type": "stream",
     "text": [
      "Run 1:\n",
      "Clock rates: [1, 2, 1]\n",
      "Max clocks: [118, 120, 113]\n",
      "Average step sizes: [1.98, 1.0, 1.9]\n",
      "\n",
      "Run 2:\n",
      "Clock rates: [2, 1, 1]\n",
      "Max clocks: [119, 118, 117]\n",
      "Average step sizes: [1.0, 1.98, 1.97]\n",
      "\n",
      "Run 3:\n",
      "Clock rates: [2, 1, 2]\n",
      "Max clocks: [119, 115, 119]\n",
      "Average step sizes: [1.0, 1.93, 1.0]\n",
      "\n",
      "Run 4:\n",
      "Clock rates: [2, 1, 2]\n",
      "Max clocks: [119, 116, 119]\n",
      "Average step sizes: [1.0, 1.95, 1.0]\n",
      "\n",
      "Run 5:\n",
      "Clock rates: [2, 2, 2]\n",
      "Max clocks: [119, 119, 119]\n",
      "Average step sizes: [1.0, 1.0, 1.0]\n",
      "\n"
     ]
    }
   ],
   "source": [
    "for run in range(1, 6):\n",
    "    clock_rates, max_clocks, avg_step_sizes = [], [], []\n",
    "    for machine in range(1, 4):\n",
    "        clock_rate, max_clock, avg_step_size = analysis(run, machine, \"logs_lower_clock_vari\")\n",
    "        clock_rates.append(clock_rate)\n",
    "        max_clocks.append(max_clock)\n",
    "        avg_step_sizes.append(avg_step_size)\n",
    "    print(f\"Run {run}:\")\n",
    "    print(f\"Clock rates: {clock_rates}\")\n",
    "    print(f\"Max clocks: {max_clocks}\")\n",
    "    print(f\"Average step sizes: {avg_step_sizes}\")\n",
    "    print()\n"
   ]
  },
  {
   "cell_type": "code",
   "execution_count": 5,
   "metadata": {},
   "outputs": [],
   "source": [
    "clock_change_analysis = analysis(1, 1, \"logs_lower_clock_vari\")"
   ]
  },
  {
   "cell_type": "code",
   "execution_count": 9,
   "metadata": {},
   "outputs": [
    {
     "name": "stdout",
     "output_type": "stream",
     "text": [
      "Run logs_lower_clock_vari:\n",
      "Clock rates: [None, None, None]\n",
      "Max clocks: [118, 120, 113]\n",
      "Average step sizes: [1.98, 1.0, 1.9]\n",
      "\n"
     ]
    },
    {
     "ename": "FileNotFoundError",
     "evalue": "[Errno 2] No such file or directory: 'log_hist/logs_higher_internal/machine_1_log.txt'",
     "output_type": "error",
     "traceback": [
      "\u001b[0;31m---------------------------------------------------------------------------\u001b[0m",
      "\u001b[0;31mFileNotFoundError\u001b[0m                         Traceback (most recent call last)",
      "Cell \u001b[0;32mIn[9], line 4\u001b[0m\n\u001b[1;32m      2\u001b[0m clock_rates, max_clocks, avg_step_sizes \u001b[38;5;241m=\u001b[39m [], [], []\n\u001b[1;32m      3\u001b[0m \u001b[38;5;28;01mfor\u001b[39;00m machine \u001b[38;5;129;01min\u001b[39;00m \u001b[38;5;28mrange\u001b[39m(\u001b[38;5;241m1\u001b[39m, \u001b[38;5;241m4\u001b[39m):\n\u001b[0;32m----> 4\u001b[0m     clock_rate, max_clock, avg_step_size \u001b[38;5;241m=\u001b[39m \u001b[43manalysis\u001b[49m\u001b[43m(\u001b[49m\u001b[38;5;241;43m1\u001b[39;49m\u001b[43m,\u001b[49m\u001b[43m \u001b[49m\u001b[43mmachine\u001b[49m\u001b[43m,\u001b[49m\u001b[43m \u001b[49m\u001b[43mrun\u001b[49m\u001b[43m)\u001b[49m\n\u001b[1;32m      5\u001b[0m     clock_rates\u001b[38;5;241m.\u001b[39mappend(clock_rate)\n\u001b[1;32m      6\u001b[0m     max_clocks\u001b[38;5;241m.\u001b[39mappend(max_clock)\n",
      "Cell \u001b[0;32mIn[3], line 13\u001b[0m, in \u001b[0;36manalysis\u001b[0;34m(run, machine, path)\u001b[0m\n\u001b[1;32m     10\u001b[0m pattern \u001b[38;5;241m=\u001b[39m re\u001b[38;5;241m.\u001b[39mcompile(\u001b[38;5;124mr\u001b[39m\u001b[38;5;124m\"\u001b[39m\u001b[38;5;124mLogicalClock=(\u001b[39m\u001b[38;5;124m\\\u001b[39m\u001b[38;5;124md+)\u001b[39m\u001b[38;5;124m\"\u001b[39m)\n\u001b[1;32m     12\u001b[0m \u001b[38;5;66;03m# Read the file and extract LogicalClock values\u001b[39;00m\n\u001b[0;32m---> 13\u001b[0m \u001b[38;5;28;01mwith\u001b[39;00m \u001b[38;5;28;43mopen\u001b[39;49m\u001b[43m(\u001b[49m\u001b[43mfile_path\u001b[49m\u001b[43m,\u001b[49m\u001b[43m \u001b[49m\u001b[38;5;124;43m\"\u001b[39;49m\u001b[38;5;124;43mr\u001b[39;49m\u001b[38;5;124;43m\"\u001b[39;49m\u001b[43m)\u001b[49m \u001b[38;5;28;01mas\u001b[39;00m file:\n\u001b[1;32m     14\u001b[0m     \u001b[38;5;28;01mfor\u001b[39;00m line \u001b[38;5;129;01min\u001b[39;00m file:\n\u001b[1;32m     15\u001b[0m         match \u001b[38;5;241m=\u001b[39m pattern\u001b[38;5;241m.\u001b[39msearch(line)\n",
      "File \u001b[0;32m~/miniforge3/lib/python3.10/site-packages/IPython/core/interactiveshell.py:284\u001b[0m, in \u001b[0;36m_modified_open\u001b[0;34m(file, *args, **kwargs)\u001b[0m\n\u001b[1;32m    277\u001b[0m \u001b[38;5;28;01mif\u001b[39;00m file \u001b[38;5;129;01min\u001b[39;00m {\u001b[38;5;241m0\u001b[39m, \u001b[38;5;241m1\u001b[39m, \u001b[38;5;241m2\u001b[39m}:\n\u001b[1;32m    278\u001b[0m     \u001b[38;5;28;01mraise\u001b[39;00m \u001b[38;5;167;01mValueError\u001b[39;00m(\n\u001b[1;32m    279\u001b[0m         \u001b[38;5;124mf\u001b[39m\u001b[38;5;124m\"\u001b[39m\u001b[38;5;124mIPython won\u001b[39m\u001b[38;5;124m'\u001b[39m\u001b[38;5;124mt let you open fd=\u001b[39m\u001b[38;5;132;01m{\u001b[39;00mfile\u001b[38;5;132;01m}\u001b[39;00m\u001b[38;5;124m by default \u001b[39m\u001b[38;5;124m\"\u001b[39m\n\u001b[1;32m    280\u001b[0m         \u001b[38;5;124m\"\u001b[39m\u001b[38;5;124mas it is likely to crash IPython. If you know what you are doing, \u001b[39m\u001b[38;5;124m\"\u001b[39m\n\u001b[1;32m    281\u001b[0m         \u001b[38;5;124m\"\u001b[39m\u001b[38;5;124myou can use builtins\u001b[39m\u001b[38;5;124m'\u001b[39m\u001b[38;5;124m open.\u001b[39m\u001b[38;5;124m\"\u001b[39m\n\u001b[1;32m    282\u001b[0m     )\n\u001b[0;32m--> 284\u001b[0m \u001b[38;5;28;01mreturn\u001b[39;00m \u001b[43mio_open\u001b[49m\u001b[43m(\u001b[49m\u001b[43mfile\u001b[49m\u001b[43m,\u001b[49m\u001b[43m \u001b[49m\u001b[38;5;241;43m*\u001b[39;49m\u001b[43margs\u001b[49m\u001b[43m,\u001b[49m\u001b[43m \u001b[49m\u001b[38;5;241;43m*\u001b[39;49m\u001b[38;5;241;43m*\u001b[39;49m\u001b[43mkwargs\u001b[49m\u001b[43m)\u001b[49m\n",
      "\u001b[0;31mFileNotFoundError\u001b[0m: [Errno 2] No such file or directory: 'log_hist/logs_higher_internal/machine_1_log.txt'"
     ]
    }
   ],
   "source": [
    "for run in [\"logs_lower_clock_vari\", \"logs_higher_internal\"]:\n",
    "    clock_rates, max_clocks, avg_step_sizes = [], [], []\n",
    "    for machine in range(1, 4):\n",
    "        clock_rate, max_clock, avg_step_size = analysis(1, machine, run)\n",
    "        clock_rates.append(clock_rate)\n",
    "        max_clocks.append(max_clock)\n",
    "        avg_step_sizes.append(avg_step_size)\n",
    "    print(f\"Run {run}:\")\n",
    "    print(f\"Clock rates: {clock_rates}\")\n",
    "    print(f\"Max clocks: {max_clocks}\")\n",
    "    print(f\"Average step sizes: {avg_step_sizes}\")\n",
    "    print()\n"
   ]
  },
  {
   "cell_type": "code",
   "execution_count": 10,
   "metadata": {},
   "outputs": [
    {
     "name": "stdout",
     "output_type": "stream",
     "text": [
      "/Users/nickydtricky/Desktop/Harvard/Senior Year/Semester 2/CS2620/cs2620_clock\n",
      "['logs']\n"
     ]
    }
   ],
   "source": [
    "# print working diretory\n",
    "import os\n",
    "print(os.getcwd())\n",
    "\n",
    "# print all files in log_hist\n",
    "print(os.listdir(\"log_hist/logs_higher_internal\"))"
   ]
  },
  {
   "cell_type": "code",
   "execution_count": null,
   "metadata": {},
   "outputs": [],
   "source": []
  }
 ],
 "metadata": {
  "kernelspec": {
   "display_name": "Python 3",
   "language": "python",
   "name": "python3"
  },
  "language_info": {
   "codemirror_mode": {
    "name": "ipython",
    "version": 3
   },
   "file_extension": ".py",
   "mimetype": "text/x-python",
   "name": "python",
   "nbconvert_exporter": "python",
   "pygments_lexer": "ipython3",
   "version": "3.9.6"
  }
 },
 "nbformat": 4,
 "nbformat_minor": 2
}
